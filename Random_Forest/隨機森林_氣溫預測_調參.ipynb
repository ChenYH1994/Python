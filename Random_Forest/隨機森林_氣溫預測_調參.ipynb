{
 "cells": [
  {
   "cell_type": "markdown",
   "metadata": {},
   "source": [
    "### 氣溫預測的訓練、測試集"
   ]
  },
  {
   "cell_type": "code",
   "execution_count": 12,
   "metadata": {},
   "outputs": [
    {
     "name": "stdout",
     "output_type": "stream",
     "text": [
      "\n"
     ]
    }
   ],
   "source": [
    "features=pd.read_csv(r'C:\\Users\\user\\PycharmProjects\\MachineLearnig\\temps.csv')\n",
    "\n",
    "'''將 'Week' 轉成可識別的型態'''\n",
    "features=pd.get_dummies(features)\n",
    "# print(features.head())\n",
    "# print(help(pd.get_dummies()))\n",
    "\n",
    "'''分開特徵與標籤'''\n",
    "labels=np.array(features['actual'])\n",
    "features=features.drop('actual',axis=1)\n",
    "features_columns=np.array(features.columns)\n",
    "features_list=list(features_columns)\n",
    "print()\n",
    "# print(features_columns)\n",
    "\n",
    "\n",
    "'''劃分訓練集、測試集'''\n",
    "from sklearn.model_selection import train_test_split\n",
    "features_train,features_test,labels_train,labels_test=train_test_split(features,labels,test_size=0.25,random_state=42)\n",
    "# random_state = 隨便一個數 : 確保每次劃分，都是同一種結果"
   ]
  },
  {
   "cell_type": "markdown",
   "metadata": {},
   "source": [
    "### 查看隨機森林的參數"
   ]
  },
  {
   "cell_type": "code",
   "execution_count": 13,
   "metadata": {},
   "outputs": [
    {
     "name": "stdout",
     "output_type": "stream",
     "text": [
      "{'bootstrap': True,\n",
      " 'ccp_alpha': 0.0,\n",
      " 'criterion': 'mse',\n",
      " 'max_depth': None,\n",
      " 'max_features': 'auto',\n",
      " 'max_leaf_nodes': None,\n",
      " 'max_samples': None,\n",
      " 'min_impurity_decrease': 0.0,\n",
      " 'min_impurity_split': None,\n",
      " 'min_samples_leaf': 1,\n",
      " 'min_samples_split': 2,\n",
      " 'min_weight_fraction_leaf': 0.0,\n",
      " 'n_estimators': 100,\n",
      " 'n_jobs': None,\n",
      " 'oob_score': False,\n",
      " 'random_state': 42,\n",
      " 'verbose': 0,\n",
      " 'warm_start': False}\n"
     ]
    }
   ],
   "source": [
    "from sklearn.ensemble import RandomForestRegressor\n",
    "rf=RandomForestRegressor(random_state=42)\n",
    "from pprint import pprint\n",
    "\n",
    "# 印出所有參數\n",
    "pprint(rf.get_params())"
   ]
  },
  {
   "cell_type": "markdown",
   "metadata": {},
   "source": [
    "##  隨機參數選擇法 RandomizedSearchCV : 隨機選合適參數組建模，並執行交叉驗證評估，找出最佳"
   ]
  },
  {
   "cell_type": "code",
   "execution_count": 14,
   "metadata": {},
   "outputs": [],
   "source": [
    "from sklearn.model_selection import RandomizedSearchCV"
   ]
  },
  {
   "cell_type": "code",
   "execution_count": null,
   "metadata": {},
   "outputs": [],
   "source": [
    "import numpy as np\n",
    "import pandas as pd"
   ]
  },
  {
   "cell_type": "markdown",
   "metadata": {},
   "source": [
    "### 以下都是待調的參數"
   ]
  },
  {
   "cell_type": "markdown",
   "metadata": {},
   "source": [
    "#### 樹的個數，用 np.linspace( 起始，終點，個數)   產生等差數列"
   ]
  },
  {
   "cell_type": "code",
   "execution_count": 15,
   "metadata": {},
   "outputs": [],
   "source": [
    "n_estimators=[int(x) for x in np.linspace(start=200,stop=2000,num=10)]"
   ]
  },
  {
   "cell_type": "markdown",
   "metadata": {},
   "source": [
    "#### 最大特徵選擇方式"
   ]
  },
  {
   "cell_type": "code",
   "execution_count": 16,
   "metadata": {},
   "outputs": [],
   "source": [
    "max_features=['auto','sqrt']"
   ]
  },
  {
   "cell_type": "markdown",
   "metadata": {},
   "source": [
    "#### 樹的最大深度"
   ]
  },
  {
   "cell_type": "code",
   "execution_count": 17,
   "metadata": {},
   "outputs": [],
   "source": [
    "max_depth=[int(x) for x in np.linspace(10,20,num=2)]\n",
    "max_depth.append(None)\n",
    "# max_depth"
   ]
  },
  {
   "cell_type": "markdown",
   "metadata": {},
   "source": [
    "#### 節點最小分裂所需樣本個數"
   ]
  },
  {
   "cell_type": "code",
   "execution_count": 18,
   "metadata": {},
   "outputs": [],
   "source": [
    "min_samples_split=[2,5,10]"
   ]
  },
  {
   "cell_type": "markdown",
   "metadata": {},
   "source": [
    "#### 葉子節點最小樣本數，任意分裂都不能讓子節點數少於此值"
   ]
  },
  {
   "cell_type": "code",
   "execution_count": 22,
   "metadata": {},
   "outputs": [],
   "source": [
    "min_samples_leaf=[1,2,4]"
   ]
  },
  {
   "cell_type": "markdown",
   "metadata": {},
   "source": [
    "#### 取樣方法"
   ]
  },
  {
   "cell_type": "code",
   "execution_count": 20,
   "metadata": {},
   "outputs": [],
   "source": [
    "bootstrap=[True,False]"
   ]
  },
  {
   "cell_type": "markdown",
   "metadata": {},
   "source": [
    "#### 參數空間"
   ]
  },
  {
   "cell_type": "code",
   "execution_count": 23,
   "metadata": {},
   "outputs": [],
   "source": [
    "random_grid={\n",
    " 'bootstrap':bootstrap,\n",
    " 'max_depth':max_depth,\n",
    " 'max_features': max_features,\n",
    " 'min_samples_leaf': min_samples_leaf,\n",
    " 'min_samples_split': min_samples_split,\n",
    " 'n_estimators': n_estimators,\n",
    "}"
   ]
  },
  {
   "cell_type": "markdown",
   "metadata": {},
   "source": [
    "### 隨機選擇最合適的參數組合"
   ]
  },
  {
   "cell_type": "code",
   "execution_count": 27,
   "metadata": {},
   "outputs": [
    {
     "name": "stdout",
     "output_type": "stream",
     "text": [
      "Fitting 3 folds for each of 100 candidates, totalling 300 fits\n"
     ]
    },
    {
     "name": "stderr",
     "output_type": "stream",
     "text": [
      "[Parallel(n_jobs=-1)]: Using backend LokyBackend with 8 concurrent workers.\n",
      "[Parallel(n_jobs=-1)]: Done  25 tasks      | elapsed:   19.2s\n",
      "[Parallel(n_jobs=-1)]: Done 146 tasks      | elapsed:  1.8min\n",
      "[Parallel(n_jobs=-1)]: Done 300 out of 300 | elapsed:  3.5min finished\n"
     ]
    },
    {
     "data": {
      "text/plain": [
       "RandomizedSearchCV(cv=3, estimator=RandomForestRegressor(), n_iter=100,\n",
       "                   n_jobs=-1,\n",
       "                   param_distributions={'bootstrap': [True, False],\n",
       "                                        'max_depth': [10, 20, None],\n",
       "                                        'max_features': ['auto', 'sqrt'],\n",
       "                                        'min_samples_leaf': [1, 2, 4],\n",
       "                                        'min_samples_split': [2, 5, 10],\n",
       "                                        'n_estimators': [200, 400, 600, 800,\n",
       "                                                         1000, 1200, 1400, 1600,\n",
       "                                                         1800, 2000]},\n",
       "                   random_state=42, scoring='neg_mean_absolute_error',\n",
       "                   verbose=2)"
      ]
     },
     "execution_count": 27,
     "metadata": {},
     "output_type": "execute_result"
    }
   ],
   "source": [
    "# 要實驗的模型 : 隨機森林\n",
    "rf=RandomForestRegressor()\n",
    "\n",
    "# 實驗方法 : 隨機選擇法\n",
    "rf_random=RandomizedSearchCV(rf,random_grid,n_iter=100,scoring='neg_mean_absolute_error',\n",
    "                             cv=3,verbose=2,random_state=42,n_jobs=-1)\n",
    "\n",
    "# 進行實驗\n",
    "rf_random.fit(features_train,labels_train)"
   ]
  },
  {
   "cell_type": "markdown",
   "metadata": {},
   "source": [
    "### 叫出最佳參數組合"
   ]
  },
  {
   "cell_type": "code",
   "execution_count": 28,
   "metadata": {},
   "outputs": [
    {
     "data": {
      "text/plain": [
       "{'n_estimators': 800,\n",
       " 'min_samples_split': 10,\n",
       " 'min_samples_leaf': 1,\n",
       " 'max_features': 'auto',\n",
       " 'max_depth': 10,\n",
       " 'bootstrap': True}"
      ]
     },
     "execution_count": 28,
     "metadata": {},
     "output_type": "execute_result"
    }
   ],
   "source": [
    "rf_random.best_params_"
   ]
  },
  {
   "cell_type": "markdown",
   "metadata": {},
   "source": [
    "### 進行分析比較"
   ]
  },
  {
   "cell_type": "code",
   "execution_count": 34,
   "metadata": {},
   "outputs": [
    {
     "name": "stdout",
     "output_type": "stream",
     "text": [
      "未調整的模型效果:\n",
      "\n",
      "平均氣溫誤差 =  3.9067816091954035\n",
      "正確率 = 93.89%\n",
      "\n",
      "\n",
      "調整後的模型效果:\n",
      "\n",
      "平均氣溫誤差 =  3.815196858663052\n",
      "正確率 = 94.01%\n"
     ]
    }
   ],
   "source": [
    "# 下面是模型預測效果的展示函數\n",
    "def evaluate(model, features_test, labels_test):\n",
    "    \n",
    "    predictions = model.predict(features_test)   # 預測\n",
    "    \n",
    "    errors = abs(predictions-labels_test)   # 誤差\n",
    "    \n",
    "    mape = 100*np.mean(errors/labels_test)  # Mape\n",
    "    \n",
    "    accuracy = 100-mape  # 正確率\n",
    "    \n",
    "    print('平均氣溫誤差 = ',np.mean(errors))\n",
    "    print('正確率 = {:0.2f}%'.format(accuracy))\n",
    "    \n",
    "    \n",
    "# 調整前模型的結果\n",
    "mod=RandomForestRegressor(random_state=42)  # 隨機森林模型\n",
    "\n",
    "mod.fit(features_train,labels_train)        # 訓練\n",
    "\n",
    "print('未調整的模型效果:')\n",
    "print()\n",
    "evaluate(mod,features_test,labels_test)     # 使用展示函數看看舊模型的預測效果\n",
    "\n",
    "     \n",
    "# 代入最佳參數模型的結果\n",
    "mod_best=rf_random.best_estimator_  # 置入最佳參數的模型\n",
    "\n",
    "print()\n",
    "print()\n",
    "print('隨機選擇法的模型效果:')\n",
    "print()\n",
    "evaluate(mod_best,features_test,labels_test)  "
   ]
  },
  {
   "cell_type": "markdown",
   "metadata": {},
   "source": [
    "### 隨機參數法只是大致選擇適當的參數組合，接下來換個地毯式搜索的調參法，再對前面進行優化。"
   ]
  },
  {
   "cell_type": "markdown",
   "metadata": {},
   "source": [
    "## 網路參數搜索法 GridSearchCV : 把所有參數組合都實驗過一遍，然後找出最佳組合"
   ]
  },
  {
   "cell_type": "code",
   "execution_count": 36,
   "metadata": {},
   "outputs": [],
   "source": [
    "from sklearn.model_selection import GridSearchCV"
   ]
  },
  {
   "cell_type": "markdown",
   "metadata": {},
   "source": [
    "#### 參數空間。 因為前面已經使用隨機法，所以應當以此為基礎做進一步的調參。"
   ]
  },
  {
   "cell_type": "code",
   "execution_count": 41,
   "metadata": {},
   "outputs": [],
   "source": [
    "param_grid={\n",
    " 'bootstrap':[True],         #  前面調參說選 True 的模型較好\n",
    " 'max_depth':[8,10,12],      #  在 10 左右的位置進行調整\n",
    " 'max_features': ['auto'],   #  前面結果說選 'auto' 的模型較好\n",
    " 'min_samples_leaf': [2,3,4,5,6],  # 前面說 min_leaf 是 1 ，所以選 1 之後的數再調整\n",
    " 'min_samples_split': [3,5,7],\n",
    " 'n_estimators': [800,900,1000,1200],\n",
    "}"
   ]
  },
  {
   "cell_type": "markdown",
   "metadata": {},
   "source": [
    "### 網路搜索調參實驗，方式跟前面一樣"
   ]
  },
  {
   "cell_type": "code",
   "execution_count": 42,
   "metadata": {},
   "outputs": [
    {
     "name": "stdout",
     "output_type": "stream",
     "text": [
      "Fitting 3 folds for each of 180 candidates, totalling 540 fits\n"
     ]
    },
    {
     "name": "stderr",
     "output_type": "stream",
     "text": [
      "[Parallel(n_jobs=-1)]: Using backend LokyBackend with 8 concurrent workers.\n",
      "[Parallel(n_jobs=-1)]: Done  25 tasks      | elapsed:   23.5s\n",
      "[Parallel(n_jobs=-1)]: Done 146 tasks      | elapsed:  1.7min\n",
      "[Parallel(n_jobs=-1)]: Done 349 tasks      | elapsed:  4.0min\n",
      "[Parallel(n_jobs=-1)]: Done 540 out of 540 | elapsed:  6.1min finished\n"
     ]
    },
    {
     "data": {
      "text/plain": [
       "GridSearchCV(cv=3, estimator=RandomForestRegressor(), n_jobs=-1,\n",
       "             param_grid={'bootstrap': [True], 'max_depth': [8, 10, 12],\n",
       "                         'max_features': ['auto'],\n",
       "                         'min_samples_leaf': [2, 3, 4, 5, 6],\n",
       "                         'min_samples_split': [3, 5, 7],\n",
       "                         'n_estimators': [800, 900, 1000, 1200]},\n",
       "             scoring='neg_mean_absolute_error', verbose=2)"
      ]
     },
     "execution_count": 42,
     "metadata": {},
     "output_type": "execute_result"
    }
   ],
   "source": [
    "rf=RandomForestRegressor()   # 要實驗的模型\n",
    "\n",
    "grid_search=GridSearchCV(rf,param_grid,'neg_mean_absolute_error',cv=3,n_jobs=-1,verbose=2)  # 實驗法\n",
    "\n",
    "grid_search.fit(features_train,labels_train)  # 實驗                        "
   ]
  },
  {
   "cell_type": "markdown",
   "metadata": {},
   "source": [
    "### 印出最佳參數組合"
   ]
  },
  {
   "cell_type": "code",
   "execution_count": 43,
   "metadata": {},
   "outputs": [
    {
     "data": {
      "text/plain": [
       "{'bootstrap': True,\n",
       " 'max_depth': 8,\n",
       " 'max_features': 'auto',\n",
       " 'min_samples_leaf': 2,\n",
       " 'min_samples_split': 7,\n",
       " 'n_estimators': 1200}"
      ]
     },
     "execution_count": 43,
     "metadata": {},
     "output_type": "execute_result"
    }
   ],
   "source": [
    "grid_search.best_params_"
   ]
  },
  {
   "cell_type": "markdown",
   "metadata": {},
   "source": [
    "### 進行比較"
   ]
  },
  {
   "cell_type": "code",
   "execution_count": 44,
   "metadata": {},
   "outputs": [
    {
     "name": "stdout",
     "output_type": "stream",
     "text": [
      "未調整的模型效果:\n",
      "\n",
      "平均氣溫誤差 =  3.9067816091954035\n",
      "正確率 = 93.89%\n",
      "\n",
      "\n",
      "隨機選擇法的模型效果:\n",
      "\n",
      "平均氣溫誤差 =  3.815196858663052\n",
      "正確率 = 94.01%\n",
      "\n",
      "\n",
      "網路搜索法的模型效果:\n",
      "\n",
      "平均氣溫誤差 =  3.796743098235943\n",
      "正確率 = 94.04%\n"
     ]
    }
   ],
   "source": [
    "# 調整前模型的結果\n",
    "mod=RandomForestRegressor(random_state=42)  # 原始隨機森林模型\n",
    "\n",
    "mod.fit(features_train,labels_train)        # 訓練\n",
    "\n",
    "print('未調整的模型效果:')\n",
    "print()\n",
    "evaluate(mod,features_test,labels_test)     # 使用展示函數看看舊模型的預測效果\n",
    "\n",
    "     \n",
    "    \n",
    "# 隨機調參法的結果\n",
    "mod_best=rf_random.best_estimator_          # 隨機法後的隨機森林模型\n",
    "\n",
    "print()\n",
    "print()\n",
    "print('隨機選擇法的模型效果:')\n",
    "print()\n",
    "evaluate(mod_best,features_test,labels_test)  \n",
    "\n",
    "\n",
    "\n",
    "# 網路搜索法的結果\n",
    "best_grid=grid_search.best_estimator_      # 網路搜索後的隨機森林模型\n",
    "print()\n",
    "print()\n",
    "print('網路搜索法的模型效果:')\n",
    "print()\n",
    "evaluate(best_grid,features_test,labels_test)  "
   ]
  },
  {
   "cell_type": "markdown",
   "metadata": {},
   "source": [
    "## 網路拓樸路搜索 : 同樣用網路搜索，如果參數空間太大，則將它分組，然後進行調參"
   ]
  },
  {
   "cell_type": "markdown",
   "metadata": {},
   "source": [
    "### 另外一組參數空間"
   ]
  },
  {
   "cell_type": "code",
   "execution_count": 46,
   "metadata": {},
   "outputs": [],
   "source": [
    "param1_grid={\n",
    " 'bootstrap':[True],         \n",
    " 'max_depth':[12,15,None],\n",
    " 'max_features': [3,4,'auto'],   \n",
    " 'min_samples_leaf': [5,6,7],\n",
    " 'min_samples_split': [7,10,13],\n",
    " 'n_estimators': [900,1000,1200],\n",
    "}"
   ]
  },
  {
   "cell_type": "code",
   "execution_count": 47,
   "metadata": {},
   "outputs": [
    {
     "name": "stderr",
     "output_type": "stream",
     "text": [
      "C:\\ProgramData\\Anaconda3\\lib\\site-packages\\sklearn\\utils\\validation.py:70: FutureWarning: Pass scoring=neg_mean_absolute_error as keyword args. From version 0.25 passing these as positional arguments will result in an error\n",
      "  FutureWarning)\n",
      "[Parallel(n_jobs=-1)]: Using backend LokyBackend with 8 concurrent workers.\n"
     ]
    },
    {
     "name": "stdout",
     "output_type": "stream",
     "text": [
      "Fitting 3 folds for each of 243 candidates, totalling 729 fits\n"
     ]
    },
    {
     "name": "stderr",
     "output_type": "stream",
     "text": [
      "[Parallel(n_jobs=-1)]: Done  25 tasks      | elapsed:   22.4s\n",
      "[Parallel(n_jobs=-1)]: Done 146 tasks      | elapsed:  2.0min\n",
      "[Parallel(n_jobs=-1)]: Done 349 tasks      | elapsed:  3.7min\n",
      "[Parallel(n_jobs=-1)]: Done 632 tasks      | elapsed:  5.7min\n",
      "[Parallel(n_jobs=-1)]: Done 729 out of 729 | elapsed:  6.5min finished\n"
     ]
    },
    {
     "data": {
      "text/plain": [
       "GridSearchCV(cv=3, estimator=RandomForestRegressor(), n_jobs=-1,\n",
       "             param_grid={'bootstrap': [True], 'max_depth': [12, 15, None],\n",
       "                         'max_features': [3, 4, 'auto'],\n",
       "                         'min_samples_leaf': [5, 6, 7],\n",
       "                         'min_samples_split': [7, 10, 13],\n",
       "                         'n_estimators': [900, 1000, 1200]},\n",
       "             scoring='neg_mean_absolute_error', verbose=2)"
      ]
     },
     "execution_count": 47,
     "metadata": {},
     "output_type": "execute_result"
    }
   ],
   "source": [
    "rf=RandomForestRegressor()   # 要實驗的模型\n",
    "\n",
    "grid_search1=GridSearchCV(rf,param1_grid,'neg_mean_absolute_error',cv=3,n_jobs=-1,verbose=2)  # 實驗法\n",
    "\n",
    "grid_search1.fit(features_train,labels_train)  # 實驗     "
   ]
  },
  {
   "cell_type": "code",
   "execution_count": 48,
   "metadata": {},
   "outputs": [
    {
     "data": {
      "text/plain": [
       "{'bootstrap': True,\n",
       " 'max_depth': 12,\n",
       " 'max_features': 'auto',\n",
       " 'min_samples_leaf': 7,\n",
       " 'min_samples_split': 7,\n",
       " 'n_estimators': 1000}"
      ]
     },
     "execution_count": 48,
     "metadata": {},
     "output_type": "execute_result"
    }
   ],
   "source": [
    "grid_search1.best_params_"
   ]
  },
  {
   "cell_type": "markdown",
   "metadata": {},
   "source": [
    "### 進行比較"
   ]
  },
  {
   "cell_type": "code",
   "execution_count": 49,
   "metadata": {},
   "outputs": [
    {
     "name": "stdout",
     "output_type": "stream",
     "text": [
      "未調整的模型效果:\n",
      "\n",
      "平均氣溫誤差 =  3.9067816091954035\n",
      "正確率 = 93.89%\n",
      "\n",
      "\n",
      "隨機選擇法的模型效果:\n",
      "\n",
      "平均氣溫誤差 =  3.815196858663052\n",
      "正確率 = 94.01%\n",
      "\n",
      "\n",
      "網路搜索法的模型效果:\n",
      "\n",
      "平均氣溫誤差 =  3.796743098235943\n",
      "正確率 = 94.04%\n",
      "\n",
      "\n",
      "網路搜索法的模型效果:\n",
      "\n",
      "平均氣溫誤差 =  3.6877785166242774\n",
      "正確率 = 94.20%\n"
     ]
    }
   ],
   "source": [
    "# 調整前模型的結果\n",
    "mod=RandomForestRegressor(random_state=42)  # 原始隨機森林模型\n",
    "\n",
    "mod.fit(features_train,labels_train)        # 訓練\n",
    "\n",
    "print('未調整的模型效果:')\n",
    "print()\n",
    "evaluate(mod,features_test,labels_test)     # 使用展示函數看看舊模型的預測效果\n",
    "\n",
    "     \n",
    "    \n",
    "# 隨機調參法的結果\n",
    "mod_best=rf_random.best_estimator_          # 隨機法後的隨機森林模型\n",
    "\n",
    "print()\n",
    "print()\n",
    "print('隨機選擇法的模型效果:')\n",
    "print()\n",
    "evaluate(mod_best,features_test,labels_test)  \n",
    "\n",
    "\n",
    "\n",
    "# 網路搜索法的結果\n",
    "best_grid=grid_search.best_estimator_       # 網路搜索後的隨機森林模型\n",
    "print()\n",
    "print()\n",
    "print('網路搜索法的模型效果:')\n",
    "print()\n",
    "evaluate(best_grid,features_test,labels_test)\n",
    "\n",
    "\n",
    "\n",
    "# 另外一組參數空間的結果\n",
    "best_grid1=grid_search1.best_estimator_     # 網路拓樸搜索後的隨機森林模型\n",
    "print()\n",
    "print()\n",
    "print('網路搜索法的模型效果:')\n",
    "print()\n",
    "evaluate(best_grid1,features_test,labels_test)"
   ]
  },
  {
   "cell_type": "markdown",
   "metadata": {},
   "source": [
    "### 目前所調出的最佳模型的參數組"
   ]
  },
  {
   "cell_type": "code",
   "execution_count": 50,
   "metadata": {},
   "outputs": [
    {
     "name": "stdout",
     "output_type": "stream",
     "text": [
      "{'bootstrap': True,\n",
      " 'ccp_alpha': 0.0,\n",
      " 'criterion': 'mse',\n",
      " 'max_depth': 12,\n",
      " 'max_features': 'auto',\n",
      " 'max_leaf_nodes': None,\n",
      " 'max_samples': None,\n",
      " 'min_impurity_decrease': 0.0,\n",
      " 'min_impurity_split': None,\n",
      " 'min_samples_leaf': 7,\n",
      " 'min_samples_split': 7,\n",
      " 'min_weight_fraction_leaf': 0.0,\n",
      " 'n_estimators': 1000,\n",
      " 'n_jobs': None,\n",
      " 'oob_score': False,\n",
      " 'random_state': None,\n",
      " 'verbose': 0,\n",
      " 'warm_start': False}\n"
     ]
    }
   ],
   "source": [
    "pprint(best_grid1.get_params())"
   ]
  },
  {
   "cell_type": "markdown",
   "metadata": {},
   "source": [
    "### 目前最佳模型的效果"
   ]
  },
  {
   "cell_type": "code",
   "execution_count": 53,
   "metadata": {},
   "outputs": [
    {
     "name": "stdout",
     "output_type": "stream",
     "text": [
      "網路拓樸搜索法的模型效果:\n",
      "\n",
      "平均氣溫誤差 =  3.6877785166242774\n",
      "正確率 = 94.20%\n"
     ]
    }
   ],
   "source": [
    "best_grid1=grid_search1.best_estimator_      # 網路拓樸搜索後的隨機森林模型\n",
    "print('網路拓樸搜索法的模型效果:')\n",
    "print()\n",
    "evaluate(best_grid1,features_test,labels_test)"
   ]
  }
 ],
 "metadata": {
  "kernelspec": {
   "display_name": "Python 3",
   "language": "python",
   "name": "python3"
  },
  "language_info": {
   "codemirror_mode": {
    "name": "ipython",
    "version": 3
   },
   "file_extension": ".py",
   "mimetype": "text/x-python",
   "name": "python",
   "nbconvert_exporter": "python",
   "pygments_lexer": "ipython3",
   "version": "3.7.6"
  }
 },
 "nbformat": 4,
 "nbformat_minor": 4
}
